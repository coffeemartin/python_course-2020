{
 "cells": [
  {
   "cell_type": "markdown",
   "metadata": {},
   "source": [
    "# Week 2 - Mini Assessment"
   ]
  },
  {
   "cell_type": "markdown",
   "metadata": {},
   "source": [
    "Welcome to your mini assessment for week two. A set of exercises using NumPy to make sure you get accustomed to one of the most widely used libraries in the data analytics/science community.\n",
    "\n",
    "Once you are done with the notebook, you should try to put it on GitHub under your respective folder for everything related to module 2. In addition let your instructor know that you have submitted this mini-assessment."
   ]
  },
  {
   "cell_type": "markdown",
   "metadata": {},
   "source": [
    "1. Import the numpy package and check its version."
   ]
  },
  {
   "cell_type": "code",
   "execution_count": 1,
   "metadata": {},
   "outputs": [],
   "source": [
    "import numpy as np"
   ]
  },
  {
   "cell_type": "code",
   "execution_count": 3,
   "metadata": {},
   "outputs": [
    {
     "data": {
      "text/plain": [
       "'1.18.5'"
      ]
     },
     "execution_count": 3,
     "metadata": {},
     "output_type": "execute_result"
    }
   ],
   "source": [
    "np.__version__"
   ]
  },
  {
   "cell_type": "markdown",
   "metadata": {},
   "source": [
    "2. Create an numpy range of values from 0 to 49 and name it `mynums`. Print its output."
   ]
  },
  {
   "cell_type": "code",
   "execution_count": 5,
   "metadata": {},
   "outputs": [
    {
     "data": {
      "text/plain": [
       "array([ 0,  1,  2,  3,  4,  5,  6,  7,  8,  9, 10, 11, 12, 13, 14, 15, 16,\n",
       "       17, 18, 19, 20, 21, 22, 23, 24, 25, 26, 27, 28, 29, 30, 31, 32, 33,\n",
       "       34, 35, 36, 37, 38, 39, 40, 41, 42, 43, 44, 45, 46, 47, 48, 49])"
      ]
     },
     "execution_count": 5,
     "metadata": {},
     "output_type": "execute_result"
    }
   ],
   "source": [
    "mynums = np.arange(0,50)\n",
    "mynums"
   ]
  },
  {
   "cell_type": "code",
   "execution_count": 2,
   "metadata": {},
   "outputs": [
    {
     "data": {
      "text/plain": [
       "array([ 0,  1,  2,  3,  4,  5,  6,  7,  8,  9, 10, 11, 12, 13, 14, 15, 16,\n",
       "       17, 18, 19, 20, 21, 22, 23, 24, 25, 26, 27, 28, 29, 30, 31, 32, 33,\n",
       "       34, 35, 36, 37, 38, 39, 40, 41, 42, 43, 44, 45, 46, 47, 48, 49])"
      ]
     },
     "execution_count": 2,
     "metadata": {},
     "output_type": "execute_result"
    }
   ],
   "source": []
  },
  {
   "cell_type": "markdown",
   "metadata": {},
   "source": [
    "3. Reshape the array you created in step 2 into a matrix with the shape below and assign a copy of it to a variable called `my_matrix`. Print the matrix."
   ]
  },
  {
   "cell_type": "code",
   "execution_count": 8,
   "metadata": {},
   "outputs": [
    {
     "data": {
      "text/plain": [
       "array([[ 0,  1,  2,  3,  4,  5,  6,  7,  8,  9],\n",
       "       [10, 11, 12, 13, 14, 15, 16, 17, 18, 19],\n",
       "       [20, 21, 22, 23, 24, 25, 26, 27, 28, 29],\n",
       "       [30, 31, 32, 33, 34, 35, 36, 37, 38, 39],\n",
       "       [40, 41, 42, 43, 44, 45, 46, 47, 48, 49]])"
      ]
     },
     "execution_count": 8,
     "metadata": {},
     "output_type": "execute_result"
    }
   ],
   "source": [
    "my_matrix = mynums.reshape(5,10)\n",
    "my_matrix"
   ]
  },
  {
   "cell_type": "code",
   "execution_count": 3,
   "metadata": {},
   "outputs": [
    {
     "data": {
      "text/plain": [
       "array([[ 0,  1,  2,  3,  4,  5,  6,  7,  8,  9],\n",
       "       [10, 11, 12, 13, 14, 15, 16, 17, 18, 19],\n",
       "       [20, 21, 22, 23, 24, 25, 26, 27, 28, 29],\n",
       "       [30, 31, 32, 33, 34, 35, 36, 37, 38, 39],\n",
       "       [40, 41, 42, 43, 44, 45, 46, 47, 48, 49]])"
      ]
     },
     "execution_count": 3,
     "metadata": {},
     "output_type": "execute_result"
    }
   ],
   "source": []
  },
  {
   "cell_type": "markdown",
   "metadata": {},
   "source": [
    "4. Create a linearly-spaced array of size 100 between the numbers 20 to 100, assign it to the variable, `num_increases` and print it."
   ]
  },
  {
   "cell_type": "code",
   "execution_count": 9,
   "metadata": {},
   "outputs": [
    {
     "data": {
      "text/plain": [
       "array([ 20.        ,  20.80808081,  21.61616162,  22.42424242,\n",
       "        23.23232323,  24.04040404,  24.84848485,  25.65656566,\n",
       "        26.46464646,  27.27272727,  28.08080808,  28.88888889,\n",
       "        29.6969697 ,  30.50505051,  31.31313131,  32.12121212,\n",
       "        32.92929293,  33.73737374,  34.54545455,  35.35353535,\n",
       "        36.16161616,  36.96969697,  37.77777778,  38.58585859,\n",
       "        39.39393939,  40.2020202 ,  41.01010101,  41.81818182,\n",
       "        42.62626263,  43.43434343,  44.24242424,  45.05050505,\n",
       "        45.85858586,  46.66666667,  47.47474747,  48.28282828,\n",
       "        49.09090909,  49.8989899 ,  50.70707071,  51.51515152,\n",
       "        52.32323232,  53.13131313,  53.93939394,  54.74747475,\n",
       "        55.55555556,  56.36363636,  57.17171717,  57.97979798,\n",
       "        58.78787879,  59.5959596 ,  60.4040404 ,  61.21212121,\n",
       "        62.02020202,  62.82828283,  63.63636364,  64.44444444,\n",
       "        65.25252525,  66.06060606,  66.86868687,  67.67676768,\n",
       "        68.48484848,  69.29292929,  70.1010101 ,  70.90909091,\n",
       "        71.71717172,  72.52525253,  73.33333333,  74.14141414,\n",
       "        74.94949495,  75.75757576,  76.56565657,  77.37373737,\n",
       "        78.18181818,  78.98989899,  79.7979798 ,  80.60606061,\n",
       "        81.41414141,  82.22222222,  83.03030303,  83.83838384,\n",
       "        84.64646465,  85.45454545,  86.26262626,  87.07070707,\n",
       "        87.87878788,  88.68686869,  89.49494949,  90.3030303 ,\n",
       "        91.11111111,  91.91919192,  92.72727273,  93.53535354,\n",
       "        94.34343434,  95.15151515,  95.95959596,  96.76767677,\n",
       "        97.57575758,  98.38383838,  99.19191919, 100.        ])"
      ]
     },
     "execution_count": 9,
     "metadata": {},
     "output_type": "execute_result"
    }
   ],
   "source": [
    "num_increases = np.linspace(20,100,num=100)\n",
    "num_increases"
   ]
  },
  {
   "cell_type": "code",
   "execution_count": 6,
   "metadata": {
    "scrolled": true
   },
   "outputs": [
    {
     "data": {
      "text/plain": [
       "array([ 20.        ,  20.80808081,  21.61616162,  22.42424242,\n",
       "        23.23232323,  24.04040404,  24.84848485,  25.65656566,\n",
       "        26.46464646,  27.27272727,  28.08080808,  28.88888889,\n",
       "        29.6969697 ,  30.50505051,  31.31313131,  32.12121212,\n",
       "        32.92929293,  33.73737374,  34.54545455,  35.35353535,\n",
       "        36.16161616,  36.96969697,  37.77777778,  38.58585859,\n",
       "        39.39393939,  40.2020202 ,  41.01010101,  41.81818182,\n",
       "        42.62626263,  43.43434343,  44.24242424,  45.05050505,\n",
       "        45.85858586,  46.66666667,  47.47474747,  48.28282828,\n",
       "        49.09090909,  49.8989899 ,  50.70707071,  51.51515152,\n",
       "        52.32323232,  53.13131313,  53.93939394,  54.74747475,\n",
       "        55.55555556,  56.36363636,  57.17171717,  57.97979798,\n",
       "        58.78787879,  59.5959596 ,  60.4040404 ,  61.21212121,\n",
       "        62.02020202,  62.82828283,  63.63636364,  64.44444444,\n",
       "        65.25252525,  66.06060606,  66.86868687,  67.67676768,\n",
       "        68.48484848,  69.29292929,  70.1010101 ,  70.90909091,\n",
       "        71.71717172,  72.52525253,  73.33333333,  74.14141414,\n",
       "        74.94949495,  75.75757576,  76.56565657,  77.37373737,\n",
       "        78.18181818,  78.98989899,  79.7979798 ,  80.60606061,\n",
       "        81.41414141,  82.22222222,  83.03030303,  83.83838384,\n",
       "        84.64646465,  85.45454545,  86.26262626,  87.07070707,\n",
       "        87.87878788,  88.68686869,  89.49494949,  90.3030303 ,\n",
       "        91.11111111,  91.91919192,  92.72727273,  93.53535354,\n",
       "        94.34343434,  95.15151515,  95.95959596,  96.76767677,\n",
       "        97.57575758,  98.38383838,  99.19191919, 100.        ])"
      ]
     },
     "execution_count": 6,
     "metadata": {},
     "output_type": "execute_result"
    }
   ],
   "source": []
  },
  {
   "cell_type": "markdown",
   "metadata": {},
   "source": [
    "5. Create an numpy array with 20 zeros, assign it to the variable `zeroes`."
   ]
  },
  {
   "cell_type": "code",
   "execution_count": 11,
   "metadata": {},
   "outputs": [
    {
     "data": {
      "text/plain": [
       "array([0., 0., 0., 0., 0., 0., 0., 0., 0., 0., 0., 0., 0., 0., 0., 0., 0.,\n",
       "       0., 0., 0.])"
      ]
     },
     "execution_count": 11,
     "metadata": {},
     "output_type": "execute_result"
    }
   ],
   "source": [
    "zeroes = np.zeros(20)\n",
    "zeroes"
   ]
  },
  {
   "cell_type": "code",
   "execution_count": 14,
   "metadata": {},
   "outputs": [
    {
     "data": {
      "text/plain": [
       "array([0., 0., 0., 0., 0., 0., 0., 0., 0., 0., 0., 0., 0., 0., 0., 0., 0.,\n",
       "       0., 0., 0.])"
      ]
     },
     "execution_count": 14,
     "metadata": {},
     "output_type": "execute_result"
    }
   ],
   "source": []
  },
  {
   "cell_type": "markdown",
   "metadata": {},
   "source": [
    "6. Create a two dimensional array of size 7 by 8 filled with 1s and do the following:\n",
    "- mulptiply the first rows by 2\n",
    "- add 3, and raise to the power of two the odd columns starting from the beginning\n",
    "- subtract 10 and multiply by 15 the elements in the even rows and odd columns"
   ]
  },
  {
   "cell_type": "code",
   "execution_count": 12,
   "metadata": {},
   "outputs": [
    {
     "data": {
      "text/plain": [
       "array([[1., 1., 1., 1., 1., 1., 1., 1.],\n",
       "       [1., 1., 1., 1., 1., 1., 1., 1.],\n",
       "       [1., 1., 1., 1., 1., 1., 1., 1.],\n",
       "       [1., 1., 1., 1., 1., 1., 1., 1.],\n",
       "       [1., 1., 1., 1., 1., 1., 1., 1.],\n",
       "       [1., 1., 1., 1., 1., 1., 1., 1.],\n",
       "       [1., 1., 1., 1., 1., 1., 1., 1.]])"
      ]
     },
     "execution_count": 12,
     "metadata": {},
     "output_type": "execute_result"
    }
   ],
   "source": [
    "ones = np.ones((7,8))\n",
    "ones"
   ]
  },
  {
   "cell_type": "code",
   "execution_count": 15,
   "metadata": {},
   "outputs": [
    {
     "data": {
      "text/plain": [
       "array([[1., 1., 1., 1., 1., 1., 1., 1.],\n",
       "       [1., 1., 1., 1., 1., 1., 1., 1.],\n",
       "       [1., 1., 1., 1., 1., 1., 1., 1.],\n",
       "       [1., 1., 1., 1., 1., 1., 1., 1.],\n",
       "       [1., 1., 1., 1., 1., 1., 1., 1.],\n",
       "       [1., 1., 1., 1., 1., 1., 1., 1.],\n",
       "       [1., 1., 1., 1., 1., 1., 1., 1.]])"
      ]
     },
     "execution_count": 15,
     "metadata": {},
     "output_type": "execute_result"
    }
   ],
   "source": []
  },
  {
   "cell_type": "code",
   "execution_count": 13,
   "metadata": {},
   "outputs": [
    {
     "data": {
      "text/plain": [
       "array([2., 2., 2., 2., 2., 2., 2., 2.])"
      ]
     },
     "execution_count": 13,
     "metadata": {},
     "output_type": "execute_result"
    }
   ],
   "source": [
    "ones[0,:]*2"
   ]
  },
  {
   "cell_type": "code",
   "execution_count": 16,
   "metadata": {},
   "outputs": [
    {
     "data": {
      "text/plain": [
       "array([[16., 16., 16., 16.],\n",
       "       [16., 16., 16., 16.],\n",
       "       [16., 16., 16., 16.],\n",
       "       [16., 16., 16., 16.],\n",
       "       [16., 16., 16., 16.],\n",
       "       [16., 16., 16., 16.],\n",
       "       [16., 16., 16., 16.]])"
      ]
     },
     "execution_count": 16,
     "metadata": {},
     "output_type": "execute_result"
    }
   ],
   "source": [
    "(ones[:,::2] + 3)**2"
   ]
  },
  {
   "cell_type": "code",
   "execution_count": 18,
   "metadata": {},
   "outputs": [
    {
     "data": {
      "text/plain": [
       "array([[16., 16., 16., 16.],\n",
       "       [16., 16., 16., 16.],\n",
       "       [16., 16., 16., 16.],\n",
       "       [16., 16., 16., 16.],\n",
       "       [16., 16., 16., 16.],\n",
       "       [16., 16., 16., 16.],\n",
       "       [16., 16., 16., 16.]])"
      ]
     },
     "execution_count": 18,
     "metadata": {},
     "output_type": "execute_result"
    }
   ],
   "source": []
  },
  {
   "cell_type": "code",
   "execution_count": 18,
   "metadata": {},
   "outputs": [
    {
     "data": {
      "text/plain": [
       "array([[-135., -135., -135., -135.],\n",
       "       [-135., -135., -135., -135.],\n",
       "       [-135., -135., -135., -135.],\n",
       "       [-135., -135., -135., -135.]])"
      ]
     },
     "execution_count": 18,
     "metadata": {},
     "output_type": "execute_result"
    }
   ],
   "source": [
    "(ones[::2,1::2] - 10)*15"
   ]
  },
  {
   "cell_type": "code",
   "execution_count": 19,
   "metadata": {},
   "outputs": [
    {
     "data": {
      "text/plain": [
       "array([[-135., -135., -135., -135.],\n",
       "       [-135., -135., -135., -135.],\n",
       "       [-135., -135., -135., -135.],\n",
       "       [-135., -135., -135., -135.]])"
      ]
     },
     "execution_count": 19,
     "metadata": {},
     "output_type": "execute_result"
    }
   ],
   "source": []
  },
  {
   "cell_type": "markdown",
   "metadata": {},
   "source": [
    "7. Create a numpy array starting at 20 and ending at 40 with 10 equally spaced values. Print your result."
   ]
  },
  {
   "cell_type": "code",
   "execution_count": 20,
   "metadata": {},
   "outputs": [
    {
     "data": {
      "text/plain": [
       "array([20.        , 22.22222222, 24.44444444, 26.66666667, 28.88888889,\n",
       "       31.11111111, 33.33333333, 35.55555556, 37.77777778, 40.        ])"
      ]
     },
     "execution_count": 20,
     "metadata": {},
     "output_type": "execute_result"
    }
   ],
   "source": [
    "equalspace = np.linspace(20,40,num=10)\n",
    "equalspace"
   ]
  },
  {
   "cell_type": "code",
   "execution_count": 23,
   "metadata": {},
   "outputs": [
    {
     "data": {
      "text/plain": [
       "array([20.        , 22.22222222, 24.44444444, 26.66666667, 28.88888889,\n",
       "       31.11111111, 33.33333333, 35.55555556, 37.77777778, 40.        ])"
      ]
     },
     "execution_count": 23,
     "metadata": {},
     "output_type": "execute_result"
    }
   ],
   "source": []
  },
  {
   "cell_type": "markdown",
   "metadata": {},
   "source": [
    "8. Create a 9 by 9 matrix with random integers from 100 to 500 and use the dtype \"int32\"."
   ]
  },
  {
   "cell_type": "code",
   "execution_count": 31,
   "metadata": {},
   "outputs": [
    {
     "name": "stdout",
     "output_type": "stream",
     "text": [
      "[[426 276 312 440 465 118 375 281 266]\n",
      " [161 204 474 248 102 329 407 412 361]\n",
      " [117 439 197 437 262 344 279 447 252]\n",
      " [465 324 191 166 346 135 266 287 185]\n",
      " [125 343 483 420 266 236 379 379 452]\n",
      " [354 239 230 342 394 465 358 235 417]\n",
      " [481 479 267 265 186 225 471 221 373]\n",
      " [472 261 455 168 187 257 198 415 478]\n",
      " [254 199 171 323 441 490 429 466 345]]\n"
     ]
    },
    {
     "data": {
      "text/plain": [
       "dtype('int32')"
      ]
     },
     "execution_count": 31,
     "metadata": {},
     "output_type": "execute_result"
    }
   ],
   "source": [
    "newmatrix = np.random.randint(100,500,size=(9,9),dtype='int32')\n",
    "print(newmatrix)\n",
    "newmatrix.dtype"
   ]
  },
  {
   "cell_type": "code",
   "execution_count": 24,
   "metadata": {},
   "outputs": [
    {
     "data": {
      "text/plain": [
       "array([[318, 168, 216, 178, 198, 380, 149, 365, 350],\n",
       "       [225, 425, 491, 156, 301, 300, 245, 285, 273],\n",
       "       [214, 225, 449, 421, 256, 444, 376, 233, 482],\n",
       "       [344, 396, 280, 460, 386, 318, 131, 350, 490],\n",
       "       [415, 137, 330, 206, 288, 444, 399, 459, 476],\n",
       "       [244, 152, 375, 211, 116, 216, 397, 120, 201],\n",
       "       [213, 498, 498, 270, 182, 242, 357, 262, 396],\n",
       "       [387, 445, 266, 280, 354, 360, 356, 426, 286],\n",
       "       [210, 365, 118, 269, 101, 364, 320, 484, 298]], dtype=int32)"
      ]
     },
     "execution_count": 24,
     "metadata": {},
     "output_type": "execute_result"
    }
   ],
   "source": []
  },
  {
   "cell_type": "markdown",
   "metadata": {},
   "source": [
    "9. Create an empty array of 20 elements with shape 2 by 10, dtype 'float32' and add a different number to each row."
   ]
  },
  {
   "cell_type": "code",
   "execution_count": 37,
   "metadata": {},
   "outputs": [
    {
     "data": {
      "text/plain": [
       "array([[ 0.00000000e+00,  2.81250000e+00, -2.27893146e-30,\n",
       "         2.84722209e+00,  7.99975539e-22,  2.88194442e+00,\n",
       "        -3.03164910e-13,  2.91666651e+00,  1.08506945e-04,\n",
       "         2.95138884e+00],\n",
       "       [-4.00497773e+04,  2.98611093e+00, -3.03164910e-13,\n",
       "         3.01041651e+00,  1.97190097e+30,  3.02777767e+00,\n",
       "         1.08506945e-04,  3.04513884e+00,  0.00000000e+00,\n",
       "         3.06250000e+00]], dtype=float32)"
      ]
     },
     "execution_count": 37,
     "metadata": {},
     "output_type": "execute_result"
    }
   ],
   "source": [
    "newmatrix2 = np.empty((2,10), dtype='float32')\n",
    "newmatrix2"
   ]
  },
  {
   "cell_type": "code",
   "execution_count": 1,
   "metadata": {},
   "outputs": [
    {
     "data": {
      "text/plain": [
       "array([[-2.68156159e+154,  1.49457291e-154,  6.93271142e-310,\n",
       "         6.93271155e-310,  6.93271142e-310,  6.93271155e-310,\n",
       "         6.93271155e-310,  6.93271155e-310,  6.93271155e-310,\n",
       "         6.93271155e-310],\n",
       "       [ 6.93271155e-310,  6.93271155e-310,  6.93271142e-310,\n",
       "         6.93271155e-310,  6.93271142e-310,  6.93271155e-310,\n",
       "         1.49457291e-154, -2.68678346e+154,  6.01346953e-154,\n",
       "         1.39067116e-308]])"
      ]
     },
     "execution_count": 1,
     "metadata": {},
     "output_type": "execute_result"
    }
   ],
   "source": []
  },
  {
   "cell_type": "code",
   "execution_count": 38,
   "metadata": {},
   "outputs": [
    {
     "data": {
      "text/plain": [
       "array([[ 4.,  4.,  4.,  4.,  4.,  4.,  4.,  4.,  4.,  4.],\n",
       "       [-3., -3., -3., -3., -3., -3., -3., -3., -3., -3.]], dtype=float32)"
      ]
     },
     "execution_count": 38,
     "metadata": {},
     "output_type": "execute_result"
    }
   ],
   "source": [
    "newmatrix2[0,:]=4\n",
    "newmatrix2[1,:]=-3\n",
    "newmatrix2"
   ]
  },
  {
   "cell_type": "code",
   "execution_count": 25,
   "metadata": {},
   "outputs": [
    {
     "name": "stdout",
     "output_type": "stream",
     "text": [
      "[5. 5. 5. 5. 5. 5. 5. 5. 5. 5.]\n",
      "[-5. -5. -5. -5. -5. -5. -5. -5. -5. -5.]\n"
     ]
    }
   ],
   "source": []
  },
  {
   "cell_type": "markdown",
   "metadata": {},
   "source": [
    "10. Create an array with 15 random numbers between 100 and 200 and print the maximum value of the array."
   ]
  },
  {
   "cell_type": "code",
   "execution_count": 40,
   "metadata": {},
   "outputs": [
    {
     "data": {
      "text/plain": [
       "array([138, 178, 101, 194, 185, 195, 174, 113, 119, 140, 154, 164, 157,\n",
       "       152, 160])"
      ]
     },
     "execution_count": 40,
     "metadata": {},
     "output_type": "execute_result"
    }
   ],
   "source": [
    "newmatrix3 = np.random.randint(100,200, size=15)\n",
    "newmatrix3"
   ]
  },
  {
   "cell_type": "code",
   "execution_count": 41,
   "metadata": {},
   "outputs": [
    {
     "data": {
      "text/plain": [
       "195"
      ]
     },
     "execution_count": 41,
     "metadata": {},
     "output_type": "execute_result"
    }
   ],
   "source": [
    "np.max(newmatrix3)"
   ]
  },
  {
   "cell_type": "markdown",
   "metadata": {},
   "source": [
    "11. Create an array with the following numbers [40, 41, 26, 14, 15, 47, 43, 33, 44, 22], and assign it to a variable\n",
    "- create a slice from the 5th to 10th element, and assign it to a variable\n",
    "- change the value of both arrays with any operation you'd like (add, subtract, multiply, etc.), and \n",
    "- then print all 3 (the first array and your next two variables)."
   ]
  },
  {
   "cell_type": "code",
   "execution_count": 43,
   "metadata": {},
   "outputs": [
    {
     "data": {
      "text/plain": [
       "array([40, 41, 26, 14, 15, 47, 43, 33, 44, 22])"
      ]
     },
     "execution_count": 43,
     "metadata": {},
     "output_type": "execute_result"
    }
   ],
   "source": [
    "newarray = np.array([40, 41, 26, 14, 15, 47, 43, 33, 44, 22])\n",
    "newarray"
   ]
  },
  {
   "cell_type": "code",
   "execution_count": 44,
   "metadata": {},
   "outputs": [
    {
     "data": {
      "text/plain": [
       "array([15, 47, 43, 33, 44, 22])"
      ]
     },
     "execution_count": 44,
     "metadata": {},
     "output_type": "execute_result"
    }
   ],
   "source": [
    "newslice = newarray[4:]\n",
    "newslice"
   ]
  },
  {
   "cell_type": "code",
   "execution_count": 45,
   "metadata": {},
   "outputs": [
    {
     "data": {
      "text/plain": [
       "array([ 60, 188, 172, 132, 176,  88])"
      ]
     },
     "execution_count": 45,
     "metadata": {},
     "output_type": "execute_result"
    }
   ],
   "source": [
    "newslice*4"
   ]
  },
  {
   "cell_type": "code",
   "execution_count": 46,
   "metadata": {},
   "outputs": [
    {
     "data": {
      "text/plain": [
       "array([40, 41, 26, 14, 15, 47, 43, 33, 44, 22])"
      ]
     },
     "execution_count": 46,
     "metadata": {},
     "output_type": "execute_result"
    }
   ],
   "source": [
    "newarray"
   ]
  },
  {
   "cell_type": "code",
   "execution_count": 48,
   "metadata": {},
   "outputs": [
    {
     "data": {
      "text/plain": [
       "array([1600, 1681,  676,  196,  225, 2209, 1849, 1089, 1936,  484],\n",
       "      dtype=int32)"
      ]
     },
     "execution_count": 48,
     "metadata": {},
     "output_type": "execute_result"
    }
   ],
   "source": [
    "newarray2 = newarray.copy()**2\n",
    "newarray2"
   ]
  },
  {
   "cell_type": "code",
   "execution_count": null,
   "metadata": {},
   "outputs": [],
   "source": []
  },
  {
   "cell_type": "markdown",
   "metadata": {},
   "source": [
    "12. Create an array of 360 random numbers from -10 to 50 (to resemble the weather) and find the min, max, 25th percentile, 75 percentile, average, and the median."
   ]
  },
  {
   "cell_type": "code",
   "execution_count": 49,
   "metadata": {},
   "outputs": [
    {
     "data": {
      "text/plain": [
       "array([ -3,  18,  35,   3,  29, -10,  44,  35,   2,  39,  21,  14,   1,\n",
       "         7,  40,  35,  30,  42,  39,  11,  21,  14,  43,  -9,  40,  21,\n",
       "        37,  46,  47,   8,  -7,  36,  14,  45,   2,  30,  30,  -6,  43,\n",
       "        23,  48,  28,  45,  26, -10,   5,  23,   7,   1,  47,  45,   6,\n",
       "        37,  29,  13,  31,  28,  11,  38,  -4,  -8,  47,   4,  -2,   3,\n",
       "         4,  30,  23,  22,  -7,  39,  26,  12,  36,  -2,  43,  34,   3,\n",
       "        -4,  -7,  35,  38,  44,  14,  -7,   9,  21,  32,   6,  -6,  -3,\n",
       "        13,  12,  15,  15,  -6,  27,  24,  45,  -5,  -1,  21,  -7,  11,\n",
       "        42,   7,  11,  11,   4,  -8,  -1,  46,  23,  21,  29,   6,  -3,\n",
       "        22,  29,   0,  12,  29,  36,   1,   6,  19,   8,  15,  -7,  15,\n",
       "         3,  -1,  -9,  46,  11,  24,   0,  45,  10,  32,  49,  -9,  48,\n",
       "        14,  18,  10, -10,   3,  -8,  -4,  49,  27,  30,   3,  39,  11,\n",
       "        12,  46,   4,  35,  41,  17,  39,  26,  29,  -9,  49,  29,  10,\n",
       "        39,  47,   6,  13,  34,  24,  42,  28,  38,   8,  34,  35,  16,\n",
       "        29,   9,  -7,  25,  31,  17,   0,  -3,  17,  -7,   0,  30,  37,\n",
       "        21,  -1,  -2,  -7,  18,  45,  22, -10,  43,  -3,   8,  -1,   2,\n",
       "        34,  34,  27,  35,  30,  12,  26,  27,  22,  19,   9,  30,  28,\n",
       "        20,  30,  34,  26,  -2,  21,  -6,  43,  13,  40,  29,  49,  11,\n",
       "        27,  41,  46,  18,  18,  42,   6,   0,  20,   5,  24,   3,  15,\n",
       "        48,  10,  45,  23,  41,  36,  23,  29,  29,  36,  24,  24,  47,\n",
       "        43,  46,  32,  35,  22,  26,  -5,  14,  45,  11,  28,  20,  29,\n",
       "         2,  10,  31,  -7,  33,  12,  -9,  26,   0,  47,  36,  -7,  28,\n",
       "        33,  -3,   7,  13,  30,  -2,  34,  28,  31,  17,  -7,   3,  38,\n",
       "         1,  21,  -4,  42,  -5,  28,  41,  17,  -6,  14,  49,  48,   0,\n",
       "         8,  28,  18,   6,  34,  16,  -7,  45,  43,  13,  15,  13,  43,\n",
       "        -3,   2,  20,  24,  21,  46,  43,  -9,  18,  40,  -3,  -5,  39,\n",
       "        30,  -5,  22,  -5,  42,  30,  -9, -10, -10,  46,  31,  -4,  32,\n",
       "        42,  45,  35,  22,   3,   5,  -6,  46,  34])"
      ]
     },
     "execution_count": 49,
     "metadata": {},
     "output_type": "execute_result"
    }
   ],
   "source": [
    "weather = np.random.randint(-10,50,size=360)\n",
    "weather"
   ]
  },
  {
   "cell_type": "code",
   "execution_count": 65,
   "metadata": {},
   "outputs": [
    {
     "name": "stdout",
     "output_type": "stream",
     "text": [
      "min:-10\n",
      "max:49\n",
      "25th percentile:4.0\n",
      "75th percentile:34.0\n",
      "average:19.658333333333335\n",
      "median:21.0\n"
     ]
    }
   ],
   "source": [
    "print(f\"min:{np.min(weather)}\")\n",
    "print(f\"max:{np.max(weather)}\")\n",
    "print(f\"25th percentile:{np.percentile(weather,25)}\")\n",
    "print(f\"75th percentile:{np.percentile(weather,75)}\")\n",
    "print(f\"average:{np.mean(weather)}\")\n",
    "print(f\"median:{np.median(weather)}\")"
   ]
  },
  {
   "cell_type": "markdown",
   "metadata": {},
   "source": [
    "13. Reshape the array you created in step 12 into a matrix of 30 by 12 and get the same values but only for the months this time."
   ]
  },
  {
   "cell_type": "code",
   "execution_count": 59,
   "metadata": {},
   "outputs": [
    {
     "data": {
      "text/plain": [
       "array([[ -3,  18,  35,   3,  29, -10,  44,  35,   2,  39,  21,  14,   1,\n",
       "          7,  40,  35,  30,  42,  39,  11,  21,  14,  43,  -9,  40,  21,\n",
       "         37,  46,  47,   8],\n",
       "       [ -7,  36,  14,  45,   2,  30,  30,  -6,  43,  23,  48,  28,  45,\n",
       "         26, -10,   5,  23,   7,   1,  47,  45,   6,  37,  29,  13,  31,\n",
       "         28,  11,  38,  -4],\n",
       "       [ -8,  47,   4,  -2,   3,   4,  30,  23,  22,  -7,  39,  26,  12,\n",
       "         36,  -2,  43,  34,   3,  -4,  -7,  35,  38,  44,  14,  -7,   9,\n",
       "         21,  32,   6,  -6],\n",
       "       [ -3,  13,  12,  15,  15,  -6,  27,  24,  45,  -5,  -1,  21,  -7,\n",
       "         11,  42,   7,  11,  11,   4,  -8,  -1,  46,  23,  21,  29,   6,\n",
       "         -3,  22,  29,   0],\n",
       "       [ 12,  29,  36,   1,   6,  19,   8,  15,  -7,  15,   3,  -1,  -9,\n",
       "         46,  11,  24,   0,  45,  10,  32,  49,  -9,  48,  14,  18,  10,\n",
       "        -10,   3,  -8,  -4],\n",
       "       [ 49,  27,  30,   3,  39,  11,  12,  46,   4,  35,  41,  17,  39,\n",
       "         26,  29,  -9,  49,  29,  10,  39,  47,   6,  13,  34,  24,  42,\n",
       "         28,  38,   8,  34],\n",
       "       [ 35,  16,  29,   9,  -7,  25,  31,  17,   0,  -3,  17,  -7,   0,\n",
       "         30,  37,  21,  -1,  -2,  -7,  18,  45,  22, -10,  43,  -3,   8,\n",
       "         -1,   2,  34,  34],\n",
       "       [ 27,  35,  30,  12,  26,  27,  22,  19,   9,  30,  28,  20,  30,\n",
       "         34,  26,  -2,  21,  -6,  43,  13,  40,  29,  49,  11,  27,  41,\n",
       "         46,  18,  18,  42],\n",
       "       [  6,   0,  20,   5,  24,   3,  15,  48,  10,  45,  23,  41,  36,\n",
       "         23,  29,  29,  36,  24,  24,  47,  43,  46,  32,  35,  22,  26,\n",
       "         -5,  14,  45,  11],\n",
       "       [ 28,  20,  29,   2,  10,  31,  -7,  33,  12,  -9,  26,   0,  47,\n",
       "         36,  -7,  28,  33,  -3,   7,  13,  30,  -2,  34,  28,  31,  17,\n",
       "         -7,   3,  38,   1],\n",
       "       [ 21,  -4,  42,  -5,  28,  41,  17,  -6,  14,  49,  48,   0,   8,\n",
       "         28,  18,   6,  34,  16,  -7,  45,  43,  13,  15,  13,  43,  -3,\n",
       "          2,  20,  24,  21],\n",
       "       [ 46,  43,  -9,  18,  40,  -3,  -5,  39,  30,  -5,  22,  -5,  42,\n",
       "         30,  -9, -10, -10,  46,  31,  -4,  32,  42,  45,  35,  22,   3,\n",
       "          5,  -6,  46,  34]])"
      ]
     },
     "execution_count": 59,
     "metadata": {},
     "output_type": "execute_result"
    }
   ],
   "source": [
    "newweather = weather.reshape(12,30)\n",
    "newweather"
   ]
  },
  {
   "cell_type": "code",
   "execution_count": 83,
   "metadata": {},
   "outputs": [],
   "source": [
    "month = [\"Jan\",\"Feb\",\"March\",\"April\",\"May\",\"June\",\"July\",\"August\",\"Sep\",\"Oct\",\"Nov\",\"Dec\"]"
   ]
  },
  {
   "cell_type": "code",
   "execution_count": 85,
   "metadata": {},
   "outputs": [
    {
     "name": "stdout",
     "output_type": "stream",
     "text": [
      "Jan\n",
      "----------\n",
      "min:-10\n",
      "max:47\n",
      "25th percentile:8.75\n",
      "75th percentile:39.0\n",
      "average:23.333333333333332\n",
      "median:25.0\n",
      "------------------------------\n",
      "\n",
      "Feb\n",
      "----------\n",
      "min:-10\n",
      "max:48\n",
      "25th percentile:6.25\n",
      "75th percentile:36.75\n",
      "average:22.133333333333333\n",
      "median:27.0\n",
      "------------------------------\n",
      "\n",
      "March\n",
      "----------\n",
      "min:-8\n",
      "max:47\n",
      "25th percentile:-0.75\n",
      "75th percentile:33.5\n",
      "average:16.066666666666666\n",
      "median:13.0\n",
      "------------------------------\n",
      "\n",
      "April\n",
      "----------\n",
      "min:-8\n",
      "max:46\n",
      "25th percentile:-0.75\n",
      "75th percentile:22.75\n",
      "average:13.333333333333334\n",
      "median:11.5\n",
      "------------------------------\n",
      "\n",
      "May\n",
      "----------\n",
      "min:-10\n",
      "max:49\n",
      "25th percentile:0.25\n",
      "75th percentile:22.75\n",
      "average:13.533333333333333\n",
      "median:10.5\n",
      "------------------------------\n",
      "\n",
      "June\n",
      "----------\n",
      "min:-9\n",
      "max:49\n",
      "25th percentile:12.25\n",
      "75th percentile:39.0\n",
      "average:26.666666666666668\n",
      "median:29.0\n",
      "------------------------------\n",
      "\n",
      "July\n",
      "----------\n",
      "min:-10\n",
      "max:45\n",
      "25th percentile:-1.0\n",
      "75th percentile:29.75\n",
      "average:14.4\n",
      "median:16.5\n",
      "------------------------------\n",
      "\n",
      "August\n",
      "----------\n",
      "min:-6\n",
      "max:49\n",
      "25th percentile:18.25\n",
      "75th percentile:33.0\n",
      "average:25.5\n",
      "median:27.0\n",
      "------------------------------\n",
      "\n",
      "Sep\n",
      "----------\n",
      "min:-5\n",
      "max:48\n",
      "25th percentile:14.25\n",
      "75th percentile:36.0\n",
      "average:25.233333333333334\n",
      "median:24.0\n",
      "------------------------------\n",
      "\n",
      "Oct\n",
      "----------\n",
      "min:-9\n",
      "max:47\n",
      "25th percentile:1.25\n",
      "75th percentile:30.75\n",
      "average:16.733333333333334\n",
      "median:18.5\n",
      "------------------------------\n",
      "\n",
      "Nov\n",
      "----------\n",
      "min:-7\n",
      "max:49\n",
      "25th percentile:6.5\n",
      "75th percentile:32.5\n",
      "average:19.466666666666665\n",
      "median:17.5\n",
      "------------------------------\n",
      "\n",
      "Dec\n",
      "----------\n",
      "min:-10\n",
      "max:46\n",
      "25th percentile:-4.75\n",
      "75th percentile:39.75\n",
      "average:19.5\n",
      "median:26.0\n",
      "------------------------------\n",
      "\n"
     ]
    }
   ],
   "source": [
    "for x in range(12):\n",
    "    print(f\"{month[x]}\")\n",
    "    print(\"-\"*10)\n",
    "    print(f\"min:{np.min(newweather[x,:])}\")\n",
    "    print(f\"max:{np.max(newweather[x,:])}\")\n",
    "    print(f\"25th percentile:{np.percentile(newweather[x,:],25)}\")\n",
    "    print(f\"75th percentile:{np.percentile(newweather[x,:],75)}\")\n",
    "    print(f\"average:{np.mean(newweather[x,:])}\")\n",
    "    print(f\"median:{np.median(newweather[x,:])}\")\n",
    "    print(\"-\"*30)\n",
    "    print()"
   ]
  },
  {
   "cell_type": "markdown",
   "metadata": {},
   "source": [
    "14. Create a mask for your data, and filter out and print:\n",
    "- the average temperature of the days where the temperature was below 10\n",
    "- the average temperature of the days where the temperature was greater than 30"
   ]
  },
  {
   "cell_type": "code",
   "execution_count": 94,
   "metadata": {},
   "outputs": [
    {
     "name": "stdout",
     "output_type": "stream",
     "text": [
      "The average temperature of the days where the temperature was below 10 is: -1.3391304347826087\n"
     ]
    }
   ],
   "source": [
    "print(f\"The average temperature of the days where the temperature was below 10 is: {np.average(newweather[newweather<10])}\")"
   ]
  },
  {
   "cell_type": "code",
   "execution_count": 95,
   "metadata": {},
   "outputs": [
    {
     "name": "stdout",
     "output_type": "stream",
     "text": [
      "The average temperature of the days where the temperature was greater than 30 is: 40.34862385321101\n"
     ]
    }
   ],
   "source": [
    "print(f\"The average temperature of the days where the temperature was greater than 30 is: {np.average(newweather[newweather>30])}\")"
   ]
  },
  {
   "cell_type": "markdown",
   "metadata": {},
   "source": [
    "15. Create a full 10 by 10 matrix with a number of your choosing and assign it to a variable. After printing that variables, unravel the matrix and assign the array to a new number."
   ]
  },
  {
   "cell_type": "code",
   "execution_count": 97,
   "metadata": {},
   "outputs": [
    {
     "data": {
      "text/plain": [
       "array([[30, 30, 30, 30, 30, 30, 30, 30, 30, 30],\n",
       "       [30, 30, 30, 30, 30, 30, 30, 30, 30, 30],\n",
       "       [30, 30, 30, 30, 30, 30, 30, 30, 30, 30],\n",
       "       [30, 30, 30, 30, 30, 30, 30, 30, 30, 30],\n",
       "       [30, 30, 30, 30, 30, 30, 30, 30, 30, 30],\n",
       "       [30, 30, 30, 30, 30, 30, 30, 30, 30, 30],\n",
       "       [30, 30, 30, 30, 30, 30, 30, 30, 30, 30],\n",
       "       [30, 30, 30, 30, 30, 30, 30, 30, 30, 30],\n",
       "       [30, 30, 30, 30, 30, 30, 30, 30, 30, 30],\n",
       "       [30, 30, 30, 30, 30, 30, 30, 30, 30, 30]])"
      ]
     },
     "execution_count": 97,
     "metadata": {},
     "output_type": "execute_result"
    }
   ],
   "source": [
    "mymatrix = np.full((10,10), 30)\n",
    "mymatrix"
   ]
  },
  {
   "cell_type": "code",
   "execution_count": 105,
   "metadata": {},
   "outputs": [
    {
     "data": {
      "text/plain": [
       "array([5, 5, 5, 5, 5, 5, 5, 5, 5, 5, 5, 5, 5, 5, 5, 5, 5, 5, 5, 5, 5, 5,\n",
       "       5, 5, 5, 5, 5, 5, 5, 5, 5, 5, 5, 5, 5, 5, 5, 5, 5, 5, 5, 5, 5, 5,\n",
       "       5, 5, 5, 5, 5, 5, 5, 5, 5, 5, 5, 5, 5, 5, 5, 5, 5, 5, 5, 5, 5, 5,\n",
       "       5, 5, 5, 5, 5, 5, 5, 5, 5, 5, 5, 5, 5, 5, 5, 5, 5, 5, 5, 5, 5, 5,\n",
       "       5, 5, 5, 5, 5, 5, 5, 5, 5, 5, 5, 5])"
      ]
     },
     "execution_count": 105,
     "metadata": {},
     "output_type": "execute_result"
    }
   ],
   "source": [
    "mymatrix2 = mymatrix.ravel().copy()\n",
    "mymatrix2[:]=5\n",
    "mymatrix2"
   ]
  },
  {
   "cell_type": "code",
   "execution_count": null,
   "metadata": {},
   "outputs": [],
   "source": []
  }
 ],
 "metadata": {
  "kernelspec": {
   "display_name": "Python 3",
   "language": "python",
   "name": "python3"
  },
  "language_info": {
   "codemirror_mode": {
    "name": "ipython",
    "version": 3
   },
   "file_extension": ".py",
   "mimetype": "text/x-python",
   "name": "python",
   "nbconvert_exporter": "python",
   "pygments_lexer": "ipython3",
   "version": "3.8.3"
  }
 },
 "nbformat": 4,
 "nbformat_minor": 4
}
