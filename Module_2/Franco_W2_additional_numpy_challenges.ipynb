{
 "cells": [
  {
   "cell_type": "markdown",
   "metadata": {},
   "source": [
    "# NumPy Exercises"
   ]
  },
  {
   "cell_type": "markdown",
   "metadata": {},
   "source": [
    "## Exercise 1\n",
    "\n",
    "- Import NumPy and recreate the following matrix\n",
    "- Assign it to the variable `matrix_a`"
   ]
  },
  {
   "cell_type": "code",
   "execution_count": 1,
   "metadata": {},
   "outputs": [],
   "source": [
    "import numpy as np"
   ]
  },
  {
   "cell_type": "code",
   "execution_count": 2,
   "metadata": {},
   "outputs": [
    {
     "data": {
      "text/plain": [
       "array([[100, 103, 106, 109, 112, 115, 118, 121, 124, 127],\n",
       "       [130, 133, 136, 139, 142, 145, 148, 151, 154, 157],\n",
       "       [160, 163, 166, 169, 172, 175, 178, 181, 184, 187],\n",
       "       [190, 193, 196, 199, 202, 205, 208, 211, 214, 217],\n",
       "       [220, 223, 226, 229, 232, 235, 238, 241, 244, 247]])"
      ]
     },
     "execution_count": 2,
     "metadata": {},
     "output_type": "execute_result"
    }
   ],
   "source": [
    "matrix_a = np.array([[100, 103, 106, 109, 112, 115, 118, 121, 124, 127],\n",
    "                     [130, 133, 136, 139, 142, 145, 148, 151, 154, 157],\n",
    "                     [160, 163, 166, 169, 172, 175, 178, 181, 184, 187],\n",
    "                     [190, 193, 196, 199, 202, 205, 208, 211, 214, 217],\n",
    "                     [220, 223, 226, 229, 232, 235, 238, 241, 244, 247]])\n",
    "matrix_a"
   ]
  },
  {
   "cell_type": "code",
   "execution_count": 17,
   "metadata": {},
   "outputs": [
    {
     "data": {
      "text/plain": [
       "array([[100, 103, 106, 109, 112, 115, 118, 121, 124, 127],\n",
       "       [130, 133, 136, 139, 142, 145, 148, 151, 154, 157],\n",
       "       [160, 163, 166, 169, 172, 175, 178, 181, 184, 187],\n",
       "       [190, 193, 196, 199, 202, 205, 208, 211, 214, 217],\n",
       "       [220, 223, 226, 229, 232, 235, 238, 241, 244, 247]])"
      ]
     },
     "execution_count": 17,
     "metadata": {},
     "output_type": "execute_result"
    }
   ],
   "source": []
  },
  {
   "cell_type": "markdown",
   "metadata": {},
   "source": [
    "## Exercise 2\n",
    "\n",
    "Using a NumPy function, complete the following:\n",
    "- Sum the rows and print the result\n",
    "- Sum the columns and print the results"
   ]
  },
  {
   "cell_type": "code",
   "execution_count": 3,
   "metadata": {},
   "outputs": [
    {
     "data": {
      "text/plain": [
       "array([1135, 1435, 1735, 2035, 2335])"
      ]
     },
     "execution_count": 3,
     "metadata": {},
     "output_type": "execute_result"
    }
   ],
   "source": [
    "np.sum(matrix_a,axis=1)"
   ]
  },
  {
   "cell_type": "code",
   "execution_count": 4,
   "metadata": {},
   "outputs": [
    {
     "data": {
      "text/plain": [
       "array([800, 815, 830, 845, 860, 875, 890, 905, 920, 935])"
      ]
     },
     "execution_count": 4,
     "metadata": {},
     "output_type": "execute_result"
    }
   ],
   "source": [
    "np.sum(matrix_a,axis=0)"
   ]
  },
  {
   "cell_type": "code",
   "execution_count": null,
   "metadata": {},
   "outputs": [],
   "source": []
  },
  {
   "cell_type": "code",
   "execution_count": 16,
   "metadata": {},
   "outputs": [
    {
     "data": {
      "text/plain": [
       "array([1135, 1435, 1735, 2035, 2335])"
      ]
     },
     "execution_count": 16,
     "metadata": {},
     "output_type": "execute_result"
    }
   ],
   "source": [
    "# these are the rows answers"
   ]
  },
  {
   "cell_type": "code",
   "execution_count": 18,
   "metadata": {},
   "outputs": [
    {
     "data": {
      "text/plain": [
       "array([800, 815, 830, 845, 860, 875, 890, 905, 920, 935])"
      ]
     },
     "execution_count": 18,
     "metadata": {},
     "output_type": "execute_result"
    }
   ],
   "source": [
    "# these are the columns answers"
   ]
  },
  {
   "cell_type": "markdown",
   "metadata": {},
   "source": [
    "## Exercise 3\n",
    "\n",
    "Create a matrix of 80 random integers from 100 to 200, and create a mask for the numbers above 150. Print the orginal matrix and the matrix with the mask."
   ]
  },
  {
   "cell_type": "code",
   "execution_count": 5,
   "metadata": {},
   "outputs": [
    {
     "data": {
      "text/plain": [
       "array([[109, 114, 143, 176, 156, 175, 138, 185, 108, 183],\n",
       "       [169, 120, 171, 118, 145, 150, 180, 157, 170, 115],\n",
       "       [100, 167, 167, 171, 142, 192, 130, 125, 104, 109],\n",
       "       [186, 185, 112, 171, 103, 175, 162, 118, 178, 148],\n",
       "       [126, 198, 180, 195, 122, 198, 176, 157, 122, 180],\n",
       "       [151, 133, 179, 140, 137, 103, 185, 189, 171, 117],\n",
       "       [105, 111, 133, 112, 116, 114, 151, 199, 169, 115],\n",
       "       [193, 132, 120, 197, 111, 161, 108, 110, 117, 134]])"
      ]
     },
     "execution_count": 5,
     "metadata": {},
     "output_type": "execute_result"
    }
   ],
   "source": [
    "matrix1 = np.random.randint(100,200,size=(8,10))\n",
    "matrix1"
   ]
  },
  {
   "cell_type": "code",
   "execution_count": 6,
   "metadata": {},
   "outputs": [
    {
     "data": {
      "text/plain": [
       "array([176, 156, 175, 185, 183, 169, 171, 180, 157, 170, 167, 167, 171,\n",
       "       192, 186, 185, 171, 175, 162, 178, 198, 180, 195, 198, 176, 157,\n",
       "       180, 151, 179, 185, 189, 171, 151, 199, 169, 193, 197, 161])"
      ]
     },
     "execution_count": 6,
     "metadata": {},
     "output_type": "execute_result"
    }
   ],
   "source": [
    "mask1 = matrix1[(matrix1>150)]\n",
    "mask1"
   ]
  },
  {
   "cell_type": "code",
   "execution_count": null,
   "metadata": {},
   "outputs": [],
   "source": []
  },
  {
   "cell_type": "code",
   "execution_count": 19,
   "metadata": {},
   "outputs": [
    {
     "data": {
      "text/plain": [
       "array([[142, 127, 179, 164, 160, 138, 195, 124, 118, 171],\n",
       "       [153, 184, 112, 184, 195, 110, 134, 194, 163, 155],\n",
       "       [194, 124, 115, 123, 158, 177, 146, 184, 101, 180],\n",
       "       [196, 152, 144, 124, 146, 128, 128, 108, 162, 107],\n",
       "       [186, 193, 153, 133, 157, 129, 184, 162, 107, 197],\n",
       "       [139, 199, 176, 168, 137, 140, 192, 173, 178, 176],\n",
       "       [135, 107, 148, 173, 144, 135, 162, 157, 198, 123],\n",
       "       [117, 197, 145, 146, 188, 165, 193, 193, 172, 155]])"
      ]
     },
     "execution_count": 19,
     "metadata": {},
     "output_type": "execute_result"
    }
   ],
   "source": [
    "# approximate matrix"
   ]
  },
  {
   "cell_type": "code",
   "execution_count": 22,
   "metadata": {},
   "outputs": [
    {
     "data": {
      "text/plain": [
       "array([172, 159, 160, 197, 178, 193, 184, 183, 178, 163, 155, 153, 172,\n",
       "       187, 182, 196, 153, 165, 153, 153, 173, 152, 171, 151, 168, 166,\n",
       "       171, 198, 189, 183, 194, 180, 198, 187, 157, 157, 171])"
      ]
     },
     "execution_count": 22,
     "metadata": {},
     "output_type": "execute_result"
    }
   ],
   "source": [
    "# approximate array with mask applied"
   ]
  },
  {
   "cell_type": "markdown",
   "metadata": {},
   "source": [
    "## Exercise 4\n",
    "\n",
    "Using the matrix you created in step three, create a mask with two conditions that show the numbers that are greater than 130 `and` the numbers that are lower than 170. Print the resulting array."
   ]
  },
  {
   "cell_type": "code",
   "execution_count": 7,
   "metadata": {},
   "outputs": [
    {
     "data": {
      "text/plain": [
       "array([143, 156, 138, 169, 145, 150, 157, 167, 167, 142, 162, 148, 157,\n",
       "       151, 133, 140, 137, 133, 151, 169, 132, 161, 134])"
      ]
     },
     "execution_count": 7,
     "metadata": {},
     "output_type": "execute_result"
    }
   ],
   "source": [
    "mask2 = matrix1[(matrix1>130)&(matrix1<170)]\n",
    "mask2"
   ]
  },
  {
   "cell_type": "code",
   "execution_count": null,
   "metadata": {},
   "outputs": [],
   "source": []
  },
  {
   "cell_type": "code",
   "execution_count": 23,
   "metadata": {},
   "outputs": [
    {
     "data": {
      "text/plain": [
       "array([148, 138, 138, 145, 159, 134, 160, 145, 132, 163, 155, 153, 149,\n",
       "       153, 143, 165, 145, 153, 153, 134, 152, 149, 133, 151, 144, 168,\n",
       "       166, 131, 149, 148, 139, 134, 157, 157, 136, 148, 146])"
      ]
     },
     "execution_count": 23,
     "metadata": {},
     "output_type": "execute_result"
    }
   ],
   "source": [
    "# possible array with mask"
   ]
  },
  {
   "cell_type": "markdown",
   "metadata": {},
   "source": [
    "## Exercise 5\n",
    "\n",
    "Using the matrix you created in step three, create a mask with several conditions that show the numbers that are less than or equal to 125 `or` the numbers that are greater than or equal to 170. Print the resulting array."
   ]
  },
  {
   "cell_type": "code",
   "execution_count": 8,
   "metadata": {},
   "outputs": [
    {
     "data": {
      "text/plain": [
       "array([109, 114, 108, 120, 118, 115, 100, 125, 104, 109, 112, 103, 118,\n",
       "       122, 122, 103, 117, 105, 111, 112, 116, 114, 115, 120, 111, 108,\n",
       "       110, 117, 176, 175, 185, 183, 171, 180, 170, 171, 192, 186, 185,\n",
       "       171, 175, 178, 198, 180, 195, 198, 176, 180, 179, 185, 189, 171,\n",
       "       199, 193, 197])"
      ]
     },
     "execution_count": 8,
     "metadata": {},
     "output_type": "execute_result"
    }
   ],
   "source": [
    "mask3 = list(matrix1[(matrix1 <= 125)]) + list(matrix1[(matrix1 >= 170)])\n",
    "np.array(mask3)"
   ]
  },
  {
   "cell_type": "code",
   "execution_count": null,
   "metadata": {},
   "outputs": [],
   "source": []
  },
  {
   "cell_type": "code",
   "execution_count": 24,
   "metadata": {},
   "outputs": [
    {
     "data": {
      "text/plain": [
       "array([172, 105, 107, 119, 119, 108, 197, 178, 124, 193, 184, 183, 178,\n",
       "       122, 172, 187, 182, 124, 196, 118, 173, 123, 120, 171, 110, 118,\n",
       "       171, 198, 106, 189, 183, 118, 194, 180, 198, 115, 187, 103, 105,\n",
       "       171])"
      ]
     },
     "execution_count": 24,
     "metadata": {},
     "output_type": "execute_result"
    }
   ],
   "source": [
    "# possible array with mask"
   ]
  },
  {
   "cell_type": "markdown",
   "metadata": {},
   "source": [
    "## Exercise 6\n",
    "\n",
    "Using the matrix you created in step three, create a mask that shows only the **even** numbers. Print the resulting array."
   ]
  },
  {
   "cell_type": "code",
   "execution_count": 9,
   "metadata": {},
   "outputs": [
    {
     "data": {
      "text/plain": [
       "array([114, 176, 156, 138, 108, 120, 118, 150, 180, 170, 100, 142, 192,\n",
       "       130, 104, 186, 112, 162, 118, 178, 148, 126, 198, 180, 122, 198,\n",
       "       176, 122, 180, 140, 112, 116, 114, 132, 120, 108, 110, 134])"
      ]
     },
     "execution_count": 9,
     "metadata": {},
     "output_type": "execute_result"
    }
   ],
   "source": [
    "mask4 = matrix1[(matrix1 % 2 == 0)]\n",
    "mask4"
   ]
  },
  {
   "cell_type": "code",
   "execution_count": null,
   "metadata": {},
   "outputs": [],
   "source": []
  },
  {
   "cell_type": "code",
   "execution_count": 25,
   "metadata": {},
   "outputs": [
    {
     "data": {
      "text/plain": [
       "array([148, 172, 138, 138, 126, 134, 160, 132, 108, 178, 124, 184, 126,\n",
       "       178, 122, 172, 182, 124, 196, 118, 134, 152, 120, 110, 118, 144,\n",
       "       168, 166, 198, 106, 118, 194, 180, 198, 148, 134, 136, 148, 146])"
      ]
     },
     "execution_count": 25,
     "metadata": {},
     "output_type": "execute_result"
    }
   ],
   "source": [
    "# possible array with mask"
   ]
  },
  {
   "cell_type": "markdown",
   "metadata": {},
   "source": [
    "## Exercise 7\n",
    "\n",
    "Using the matrix you created in step three, create a mask that shows only the **odd** numbers. Print the resulting array."
   ]
  },
  {
   "cell_type": "code",
   "execution_count": 10,
   "metadata": {},
   "outputs": [
    {
     "data": {
      "text/plain": [
       "array([109, 143, 175, 185, 183, 169, 171, 145, 157, 115, 167, 167, 171,\n",
       "       125, 109, 185, 171, 103, 175, 195, 157, 151, 133, 179, 137, 103,\n",
       "       185, 189, 171, 117, 105, 111, 133, 151, 199, 169, 115, 193, 197,\n",
       "       111, 161, 117])"
      ]
     },
     "execution_count": 10,
     "metadata": {},
     "output_type": "execute_result"
    }
   ],
   "source": [
    "mask5 = matrix1[(matrix1 % 2 != 0)]\n",
    "mask5"
   ]
  },
  {
   "cell_type": "code",
   "execution_count": null,
   "metadata": {},
   "outputs": [],
   "source": []
  },
  {
   "cell_type": "code",
   "execution_count": 29,
   "metadata": {},
   "outputs": [
    {
     "data": {
      "text/plain": [
       "array([145, 159, 105, 107, 119, 119, 145, 197, 193, 183, 163, 155, 153,\n",
       "       149, 187, 153, 143, 165, 145, 153, 153, 173, 123, 149, 127, 133,\n",
       "       171, 151, 171, 131, 189, 183, 149, 139, 115, 187, 103, 105, 157,\n",
       "       157, 171])"
      ]
     },
     "execution_count": 29,
     "metadata": {},
     "output_type": "execute_result"
    }
   ],
   "source": [
    "# possible array with mask"
   ]
  },
  {
   "cell_type": "markdown",
   "metadata": {},
   "source": [
    "## Exercise 8\n",
    "\n",
    "Using the matrix you created in step three, create a full copy of the matrix containing only every third column starting from the first one. Then create a mask that shows only the **odd** numbers. Print the resulting array."
   ]
  },
  {
   "cell_type": "code",
   "execution_count": 12,
   "metadata": {},
   "outputs": [
    {
     "data": {
      "text/plain": [
       "array([[109, 176, 138, 183],\n",
       "       [169, 118, 180, 115],\n",
       "       [100, 171, 130, 109],\n",
       "       [186, 171, 162, 148],\n",
       "       [126, 195, 176, 180],\n",
       "       [151, 140, 185, 117],\n",
       "       [105, 112, 151, 115],\n",
       "       [193, 197, 108, 134]])"
      ]
     },
     "execution_count": 12,
     "metadata": {},
     "output_type": "execute_result"
    }
   ],
   "source": [
    "matrix2 = matrix1[:,::3].copy()\n",
    "matrix2"
   ]
  },
  {
   "cell_type": "code",
   "execution_count": 14,
   "metadata": {},
   "outputs": [
    {
     "data": {
      "text/plain": [
       "array([109, 183, 169, 115, 171, 109, 171, 195, 151, 185, 117, 105, 151,\n",
       "       115, 193, 197])"
      ]
     },
     "execution_count": 14,
     "metadata": {},
     "output_type": "execute_result"
    }
   ],
   "source": [
    "mask6 = matrix2[(matrix2 % 2 != 0)]\n",
    "mask6"
   ]
  },
  {
   "cell_type": "code",
   "execution_count": null,
   "metadata": {},
   "outputs": [],
   "source": []
  },
  {
   "cell_type": "code",
   "execution_count": null,
   "metadata": {},
   "outputs": [],
   "source": []
  },
  {
   "cell_type": "code",
   "execution_count": 33,
   "metadata": {},
   "outputs": [
    {
     "data": {
      "text/plain": [
       "array([[148, 138, 159, 107],\n",
       "       [160, 145, 197, 193],\n",
       "       [184, 178, 153, 172],\n",
       "       [187, 196, 165, 153],\n",
       "       [153, 152, 120, 171],\n",
       "       [110, 144, 171, 131],\n",
       "       [189, 194, 198, 115],\n",
       "       [187, 134, 136, 146]])"
      ]
     },
     "execution_count": 33,
     "metadata": {},
     "output_type": "execute_result"
    }
   ],
   "source": [
    "# possible matrix with every third column"
   ]
  },
  {
   "cell_type": "code",
   "execution_count": 39,
   "metadata": {},
   "outputs": [
    {
     "data": {
      "text/plain": [
       "array([159, 107, 145, 197, 193, 153, 187, 165, 153, 153, 171, 171, 131,\n",
       "       189, 115, 187])"
      ]
     },
     "execution_count": 39,
     "metadata": {},
     "output_type": "execute_result"
    }
   ],
   "source": [
    "# possible array with the odd numbers of every third column"
   ]
  },
  {
   "cell_type": "markdown",
   "metadata": {},
   "source": [
    "## Exercise 9\n",
    "\n",
    "- Unravel the matrix you created in step three.\n",
    "- Reshape it into a differently-sized matrix\n",
    "- Change te numbers at\n",
    "    - third row, fourth column --> add 10\n",
    "    - first row, last column --> to the power of 3\n",
    "    - last row, second column --> subtract 20"
   ]
  },
  {
   "cell_type": "code",
   "execution_count": 16,
   "metadata": {},
   "outputs": [
    {
     "data": {
      "text/plain": [
       "array([109, 114, 143, 176, 156, 175, 138, 185, 108, 183, 169, 120, 171,\n",
       "       118, 145, 150, 180, 157, 170, 115, 100, 167, 167, 171, 142, 192,\n",
       "       130, 125, 104, 109, 186, 185, 112, 171, 103, 175, 162, 118, 178,\n",
       "       148, 126, 198, 180, 195, 122, 198, 176, 157, 122, 180, 151, 133,\n",
       "       179, 140, 137, 103, 185, 189, 171, 117, 105, 111, 133, 112, 116,\n",
       "       114, 151, 199, 169, 115, 193, 132, 120, 197, 111, 161, 108, 110,\n",
       "       117, 134])"
      ]
     },
     "execution_count": 16,
     "metadata": {},
     "output_type": "execute_result"
    }
   ],
   "source": [
    "matrix3 = matrix1.ravel().copy()\n",
    "matrix3"
   ]
  },
  {
   "cell_type": "code",
   "execution_count": 21,
   "metadata": {},
   "outputs": [
    {
     "data": {
      "text/plain": [
       "array([[109, 114, 143, 176, 156, 175, 138, 185, 108, 183, 169, 120, 171,\n",
       "        118, 145, 150],\n",
       "       [180, 157, 170, 115, 100, 167, 167, 171, 142, 192, 130, 125, 104,\n",
       "        109, 186, 185],\n",
       "       [112, 171, 103, 175, 162, 118, 178, 148, 126, 198, 180, 195, 122,\n",
       "        198, 176, 157],\n",
       "       [122, 180, 151, 133, 179, 140, 137, 103, 185, 189, 171, 117, 105,\n",
       "        111, 133, 112],\n",
       "       [116, 114, 151, 199, 169, 115, 193, 132, 120, 197, 111, 161, 108,\n",
       "        110, 117, 134]])"
      ]
     },
     "execution_count": 21,
     "metadata": {},
     "output_type": "execute_result"
    }
   ],
   "source": [
    "matrix4 = matrix3.reshape(5,16)\n",
    "matrix4"
   ]
  },
  {
   "cell_type": "code",
   "execution_count": 24,
   "metadata": {},
   "outputs": [
    {
     "data": {
      "text/plain": [
       "185"
      ]
     },
     "execution_count": 24,
     "metadata": {},
     "output_type": "execute_result"
    }
   ],
   "source": [
    "matrix4[2,3]+10"
   ]
  },
  {
   "cell_type": "code",
   "execution_count": 26,
   "metadata": {},
   "outputs": [
    {
     "data": {
      "text/plain": [
       "3375000"
      ]
     },
     "execution_count": 26,
     "metadata": {},
     "output_type": "execute_result"
    }
   ],
   "source": [
    "matrix4[0,-1]**3"
   ]
  },
  {
   "cell_type": "code",
   "execution_count": 27,
   "metadata": {},
   "outputs": [
    {
     "data": {
      "text/plain": [
       "94"
      ]
     },
     "execution_count": 27,
     "metadata": {},
     "output_type": "execute_result"
    }
   ],
   "source": [
    "matrix4[-1,1]-20"
   ]
  },
  {
   "cell_type": "code",
   "execution_count": null,
   "metadata": {},
   "outputs": [],
   "source": []
  },
  {
   "cell_type": "code",
   "execution_count": null,
   "metadata": {},
   "outputs": [],
   "source": []
  },
  {
   "cell_type": "markdown",
   "metadata": {},
   "source": [
    "## Exercise 10\n",
    "\n",
    "Imagine you have 100 things you want to buy and that all of those cost the same amount of money. The total sum for the 100 things you want to buy is 100. Your friend gives you 50 and your sibling gives you 50 so that you can purchase all these things you want. You spend 97 and are left with 3. Then, you give 1 back to your friend and 1 back to your sibling and you stay with 1 yourself. If you now owe 49 to each one of them, where did the last dollar go?\n",
    "\n",
    "- Create an array of 100 linearly spaced numbers that must add up to 100\n",
    "- sum the array and assign it to a variable and call it `sum_100`\n",
    "- create two variables with 50 in each and call them `debt1` and `debt2`\n",
    "- subtract 1 from `debt1` and from `debt2`\n",
    "- add `debt1` and `debt2` into `total_debt`\n",
    "- subtract 97 from `sum_100` and assign it to a variable called `my_money`\n",
    "- add up `my_money` and `total_debt`\n",
    "- What happened?"
   ]
  },
  {
   "cell_type": "code",
   "execution_count": 34,
   "metadata": {},
   "outputs": [
    {
     "data": {
      "text/plain": [
       "array([1., 1., 1., 1., 1., 1., 1., 1., 1., 1., 1., 1., 1., 1., 1., 1., 1.,\n",
       "       1., 1., 1., 1., 1., 1., 1., 1., 1., 1., 1., 1., 1., 1., 1., 1., 1.,\n",
       "       1., 1., 1., 1., 1., 1., 1., 1., 1., 1., 1., 1., 1., 1., 1., 1., 1.,\n",
       "       1., 1., 1., 1., 1., 1., 1., 1., 1., 1., 1., 1., 1., 1., 1., 1., 1.,\n",
       "       1., 1., 1., 1., 1., 1., 1., 1., 1., 1., 1., 1., 1., 1., 1., 1., 1.,\n",
       "       1., 1., 1., 1., 1., 1., 1., 1., 1., 1., 1., 1., 1., 1., 1.])"
      ]
     },
     "execution_count": 34,
     "metadata": {},
     "output_type": "execute_result"
    }
   ],
   "source": [
    "newnumber = np.ones(100)\n",
    "newnumber"
   ]
  },
  {
   "cell_type": "code",
   "execution_count": 35,
   "metadata": {},
   "outputs": [
    {
     "data": {
      "text/plain": [
       "100.0"
      ]
     },
     "execution_count": 35,
     "metadata": {},
     "output_type": "execute_result"
    }
   ],
   "source": [
    "sum_100 = np.sum(newnumber)\n",
    "sum_100"
   ]
  },
  {
   "cell_type": "code",
   "execution_count": 36,
   "metadata": {},
   "outputs": [],
   "source": [
    "debt1 = 50\n",
    "debt2 = 50"
   ]
  },
  {
   "cell_type": "code",
   "execution_count": 38,
   "metadata": {},
   "outputs": [
    {
     "data": {
      "text/plain": [
       "49"
      ]
     },
     "execution_count": 38,
     "metadata": {},
     "output_type": "execute_result"
    }
   ],
   "source": [
    "debt1-1"
   ]
  },
  {
   "cell_type": "code",
   "execution_count": 39,
   "metadata": {},
   "outputs": [
    {
     "data": {
      "text/plain": [
       "49"
      ]
     },
     "execution_count": 39,
     "metadata": {},
     "output_type": "execute_result"
    }
   ],
   "source": [
    "debt2-1"
   ]
  },
  {
   "cell_type": "code",
   "execution_count": 42,
   "metadata": {},
   "outputs": [
    {
     "data": {
      "text/plain": [
       "98"
      ]
     },
     "execution_count": 42,
     "metadata": {},
     "output_type": "execute_result"
    }
   ],
   "source": [
    "total_debt = (debt1-1) + (debt2-1)\n",
    "total_debt"
   ]
  },
  {
   "cell_type": "code",
   "execution_count": 44,
   "metadata": {},
   "outputs": [
    {
     "data": {
      "text/plain": [
       "3.0"
      ]
     },
     "execution_count": 44,
     "metadata": {},
     "output_type": "execute_result"
    }
   ],
   "source": [
    "my_money = sum_100 - 97\n",
    "my_money"
   ]
  },
  {
   "cell_type": "code",
   "execution_count": 46,
   "metadata": {},
   "outputs": [
    {
     "data": {
      "text/plain": [
       "101.0"
      ]
     },
     "execution_count": 46,
     "metadata": {},
     "output_type": "execute_result"
    }
   ],
   "source": [
    "total_debt + my_money"
   ]
  },
  {
   "cell_type": "markdown",
   "metadata": {},
   "source": [
    "## After paying 1 dollar back into both debt, I would own both people 49 dollars each, my total debt will now be 98, in my total debt 98, I still got 1 dollar cash in my hand, with 97 dollars worth of purchases, they do add up. Don't think we should add total_debt and my_money like that, these two figures are irrelavant, just a trick?! lol"
   ]
  },
  {
   "cell_type": "code",
   "execution_count": null,
   "metadata": {},
   "outputs": [],
   "source": []
  }
 ],
 "metadata": {
  "kernelspec": {
   "display_name": "Python 3",
   "language": "python",
   "name": "python3"
  },
  "language_info": {
   "codemirror_mode": {
    "name": "ipython",
    "version": 3
   },
   "file_extension": ".py",
   "mimetype": "text/x-python",
   "name": "python",
   "nbconvert_exporter": "python",
   "pygments_lexer": "ipython3",
   "version": "3.8.3"
  }
 },
 "nbformat": 4,
 "nbformat_minor": 4
}
